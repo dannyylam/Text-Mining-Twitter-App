{
 "cells": [
  {
   "cell_type": "markdown",
   "metadata": {},
   "source": [
    "# Text Mining Twitter App\n",
    "### Danny Lam\n",
    "#### May 14, 2020"
   ]
  },
  {
   "cell_type": "code",
   "execution_count": 1,
   "metadata": {},
   "outputs": [],
   "source": [
    "#import libraries after installing in my terminal\n",
    "import twitter\n",
    "import tweepy as tweepy\n",
    "from tweepy import OAuthHandler, Stream\n",
    "\n",
    "#import other required libraries\n",
    "import os\n",
    "import pandas as pd\n",
    "import numpy as np\n",
    "\n",
    "#import for plotting and visualization\n",
    "import matplotlib.pyplot as plt\n",
    "%matplotlib inline\n",
    "import seaborn as sns\n",
    "from IPython.display import display"
   ]
  },
  {
   "cell_type": "markdown",
   "metadata": {},
   "source": [
    "## Accessing Twitter API"
   ]
  },
  {
   "cell_type": "code",
   "execution_count": 2,
   "metadata": {},
   "outputs": [
    {
     "name": "stdout",
     "output_type": "stream",
     "text": [
      "<tweepy.api.API object at 0x1a201db898>\n"
     ]
    }
   ],
   "source": [
    "#authorizing an application to access Twitter account data\n",
    "#required keys and tokens from Twitter developer \n",
    "\n",
    "access_token = '1255683454408130562-jH2wa5pPqcDKGXjU7xExxnczhv8HST'\n",
    "access_secret = '72oYCT9HYijUvJRI4nAqKZLlCd3JIWbnqi3UfLDzp3n1F'\n",
    "consumer_key = '78TTkzvFY6DvYO4TC1k6Cic2A'\n",
    "consumer_secret = 'J9RKSUg8nzIa5M2toeiNZincj8T9dB4ayqnKESIEusjfamxKO0'\n",
    "\n",
    "auth = tweepy.OAuthHandler(consumer_key, consumer_secret)\n",
    "auth.set_access_token(access_token, access_secret)\n",
    " \n",
    "twitter_api = tweepy.API(auth)\n",
    "\n",
    "# Nothing to see by displaying twitter_api except that it's now a\n",
    "# defined variable\n",
    "\n",
    "print(twitter_api)"
   ]
  },
  {
   "cell_type": "markdown",
   "metadata": {},
   "source": [
    "## Searching for tweets from Twitter\n",
    "- Search for recent tweets using the #KobeBryant hashtag\n",
    "- I used the .Cursor method to get an object containing tweets containing the hashtag #KobeBryant\n",
    "- Iterator attributes include: the text in tweet, user, and date"
   ]
  },
  {
   "cell_type": "code",
   "execution_count": 3,
   "metadata": {},
   "outputs": [],
   "source": [
    "#define variables of what I wanted to search about and the date\n",
    "search_words = \"#KobeBryant\"\n",
    "date_since = \"2020-02-20\""
   ]
  },
  {
   "cell_type": "code",
   "execution_count": 4,
   "metadata": {},
   "outputs": [
    {
     "data": {
      "text/plain": [
       "<tweepy.cursor.ItemIterator at 0x1a20225128>"
      ]
     },
     "execution_count": 4,
     "metadata": {},
     "output_type": "execute_result"
    }
   ],
   "source": [
    "#use .Cursor() to search twitter for tweets containing the search term #cheesecake\n",
    "#restrict returned tweets by using .items() method\n",
    "#.items(10) will return the 10 recent tweets\n",
    "\n",
    "#collect tweets\n",
    "tweets = tweepy.Cursor(twitter_api.search,\n",
    "              q=search_words,\n",
    "              lang=\"en\",\n",
    "              since=date_since).items(10)\n",
    "\n",
    "#check if cursor works\n",
    "tweets\n"
   ]
  },
  {
   "cell_type": "code",
   "execution_count": 5,
   "metadata": {},
   "outputs": [
    {
     "name": "stdout",
     "output_type": "stream",
     "text": [
      "I was watching Kobe last game, so I stared to think, why Good people are dying? There is a lot bad people who hurt… https://t.co/DEWcSdrC4h\n",
      "Seeing this replay of #KobeBryant last game on @ABCnetwork , aside from missing him, it’s painful to watch. Seeing… https://t.co/Myc0ZjBZKW\n",
      "I'm always told God has a reason for everything, but I still don't why Kobe Bryant (along with his daughter the sev… https://t.co/fdgikvN9dT\n",
      "I'm watching @kobebryant farewell game on @ABCNetwork  and it's still amazing what he did in that game #KobeBryant\n",
      "Man this #KobeBryant farewell game replay has me way too into my feelings seeing him and his girls on the sideline #Lakers #RIPKobeBryant\n",
      "The #KobeBryant farewell game is just ridiculous. I remember watching it live. Rewatching it again is just still cr… https://t.co/sLghTRujlD\n",
      "RT @Tawny_Kitaen: 💕A new #tawnystake is up &amp; running now! Go to YouTube &amp; enjoy!! #giannabryant #kobebryant my hero’s, I can’t even imagine…\n",
      "This #KobeBryant farewell game puts me in awe every time I see it, especially his will as he finishes off the last… https://t.co/sFzxiBf7zY\n",
      ".@SHAQ’s face when #KobeBryant scored that jumper again the @utahjazz in his Last game as a @Lakers! PRICELESS 😂\n",
      "Lifelong @celtics fan watching Kobe's last game with goosebumps in the first quarter!  Greatness!  \n",
      "#MambaMentality… https://t.co/ZOSWuyJfCs\n"
     ]
    }
   ],
   "source": [
    "#collect tweets\n",
    "tweets = tweepy.Cursor(twitter_api.search,\n",
    "              q=search_words,\n",
    "              lang=\"en\",\n",
    "              since=date_since).items(10)\n",
    "\n",
    "#iterate and print tweets\n",
    "#this code loops through the object and prints the text associated with each tweet\n",
    "for tweet in tweets:\n",
    "    print(tweet.text)\n",
    "    \n",
    "\n",
    "#you can also use this method to collect a list of tweets\n",
    "#[tweet.text for tweet in tweets]"
   ]
  },
  {
   "cell_type": "markdown",
   "metadata": {},
   "source": [
    "## Filter out retweets\n",
    "- Removing retweets will eliminate duplicate content that might skew the analysis if i will only be looking at word frequency\n",
    "- Use -filter:retweets to ignore retweets"
   ]
  },
  {
   "cell_type": "code",
   "execution_count": 6,
   "metadata": {},
   "outputs": [
    {
     "data": {
      "text/plain": [
       "'#KobeBryant -filter:retweets'"
      ]
     },
     "execution_count": 6,
     "metadata": {},
     "output_type": "execute_result"
    }
   ],
   "source": [
    "#new variable for words without retweets\n",
    "new_search = search_words + \" -filter:retweets\"\n",
    "new_search"
   ]
  },
  {
   "cell_type": "code",
   "execution_count": 7,
   "metadata": {
    "scrolled": true
   },
   "outputs": [
    {
     "data": {
      "text/plain": [
       "['I was watching Kobe last game, so I stared to think, why Good people are dying? There is a lot bad people who hurt… https://t.co/DEWcSdrC4h',\n",
       " 'Seeing this replay of #KobeBryant last game on @ABCnetwork , aside from missing him, it’s painful to watch. Seeing… https://t.co/Myc0ZjBZKW',\n",
       " \"I'm always told God has a reason for everything, but I still don't why Kobe Bryant (along with his daughter the sev… https://t.co/fdgikvN9dT\",\n",
       " \"I'm watching @kobebryant farewell game on @ABCNetwork  and it's still amazing what he did in that game #KobeBryant\",\n",
       " 'Man this #KobeBryant farewell game replay has me way too into my feelings seeing him and his girls on the sideline #Lakers #RIPKobeBryant']"
      ]
     },
     "execution_count": 7,
     "metadata": {},
     "output_type": "execute_result"
    }
   ],
   "source": [
    "#check new tweets with retweets filtered out\n",
    "tweets = tweepy.Cursor(twitter_api.search,\n",
    "                       q=new_search,\n",
    "                       lang=\"en\",\n",
    "                       since=date_since).items(500)\n",
    "\n",
    "#display new search with no retweets\n",
    "all_tweets = [tweet.text for tweet in tweets]\n",
    "all_tweets[:5]"
   ]
  },
  {
   "cell_type": "markdown",
   "metadata": {},
   "source": [
    "## Which users tweeted?\n",
    "- I will find out who is tweeting about #KobeBryant , their location, and follower count\n",
    "- tweet.user.screen_name provides the user’s twitter username \n",
    "- tweet.user.location gives the user’s provided location\n",
    "- tweet.user.followers_count gives the followers count"
   ]
  },
  {
   "cell_type": "code",
   "execution_count": 49,
   "metadata": {},
   "outputs": [
    {
     "data": {
      "text/plain": [
       "[['KirstenGilling', '', 108],\n",
       " ['Munchie_Mcfly', 'West Baltimore, Maryland', 333],\n",
       " ['omer_kamba', 'Washington, DC', 49],\n",
       " ['coolmanolo', 'Miami, FL', 3100],\n",
       " ['kevinlockett', 'Akron, OH', 5221],\n",
       " ['deontherealmvp', '', 463],\n",
       " ['acmartin33', 'SPRINGFIELD, MO, KC, MO', 274],\n",
       " ['NateBreen', 'IA', 365],\n",
       " ['kevinrice1', 'Atlanta, Ga', 322],\n",
       " ['DiegoGarcesTV', '', 4013]]"
      ]
     },
     "execution_count": 49,
     "metadata": {},
     "output_type": "execute_result"
    }
   ],
   "source": [
    "#define tweets to collect 500 tweets\n",
    "tweets = tweepy.Cursor(twitter_api.search, \n",
    "                           q=new_search,\n",
    "                           lang=\"en\",\n",
    "                           since=date_since).items(500)\n",
    "\n",
    "#define users_locs to fill parameters for username, location, and their follower count\n",
    "users_locs = [[tweet.user.screen_name, tweet.user.location,tweet.user.followers_count] for tweet in tweets]\n",
    "#only view the top 10\n",
    "users_locs[:10]"
   ]
  },
  {
   "cell_type": "markdown",
   "metadata": {},
   "source": [
    "## Pandas Dataframe\n",
    "- Load the list of tweets into a dataframe"
   ]
  },
  {
   "cell_type": "code",
   "execution_count": 50,
   "metadata": {},
   "outputs": [
    {
     "data": {
      "text/html": [
       "<div>\n",
       "<style scoped>\n",
       "    .dataframe tbody tr th:only-of-type {\n",
       "        vertical-align: middle;\n",
       "    }\n",
       "\n",
       "    .dataframe tbody tr th {\n",
       "        vertical-align: top;\n",
       "    }\n",
       "\n",
       "    .dataframe thead th {\n",
       "        text-align: right;\n",
       "    }\n",
       "</style>\n",
       "<table border=\"1\" class=\"dataframe\">\n",
       "  <thead>\n",
       "    <tr style=\"text-align: right;\">\n",
       "      <th></th>\n",
       "      <th>Twitter User</th>\n",
       "      <th>Location</th>\n",
       "      <th>Follow Count</th>\n",
       "    </tr>\n",
       "  </thead>\n",
       "  <tbody>\n",
       "    <tr>\n",
       "      <th>0</th>\n",
       "      <td>KirstenGilling</td>\n",
       "      <td></td>\n",
       "      <td>108</td>\n",
       "    </tr>\n",
       "    <tr>\n",
       "      <th>1</th>\n",
       "      <td>Munchie_Mcfly</td>\n",
       "      <td>West Baltimore, Maryland</td>\n",
       "      <td>333</td>\n",
       "    </tr>\n",
       "    <tr>\n",
       "      <th>2</th>\n",
       "      <td>omer_kamba</td>\n",
       "      <td>Washington, DC</td>\n",
       "      <td>49</td>\n",
       "    </tr>\n",
       "    <tr>\n",
       "      <th>3</th>\n",
       "      <td>coolmanolo</td>\n",
       "      <td>Miami, FL</td>\n",
       "      <td>3100</td>\n",
       "    </tr>\n",
       "    <tr>\n",
       "      <th>4</th>\n",
       "      <td>kevinlockett</td>\n",
       "      <td>Akron, OH</td>\n",
       "      <td>5221</td>\n",
       "    </tr>\n",
       "    <tr>\n",
       "      <th>5</th>\n",
       "      <td>deontherealmvp</td>\n",
       "      <td></td>\n",
       "      <td>463</td>\n",
       "    </tr>\n",
       "    <tr>\n",
       "      <th>6</th>\n",
       "      <td>acmartin33</td>\n",
       "      <td>SPRINGFIELD, MO, KC, MO</td>\n",
       "      <td>274</td>\n",
       "    </tr>\n",
       "    <tr>\n",
       "      <th>7</th>\n",
       "      <td>NateBreen</td>\n",
       "      <td>IA</td>\n",
       "      <td>365</td>\n",
       "    </tr>\n",
       "    <tr>\n",
       "      <th>8</th>\n",
       "      <td>kevinrice1</td>\n",
       "      <td>Atlanta, Ga</td>\n",
       "      <td>322</td>\n",
       "    </tr>\n",
       "    <tr>\n",
       "      <th>9</th>\n",
       "      <td>DiegoGarcesTV</td>\n",
       "      <td></td>\n",
       "      <td>4013</td>\n",
       "    </tr>\n",
       "  </tbody>\n",
       "</table>\n",
       "</div>"
      ],
      "text/plain": [
       "     Twitter User                  Location  Follow Count\n",
       "0  KirstenGilling                                     108\n",
       "1   Munchie_Mcfly  West Baltimore, Maryland           333\n",
       "2      omer_kamba            Washington, DC            49\n",
       "3      coolmanolo                 Miami, FL          3100\n",
       "4    kevinlockett                 Akron, OH          5221\n",
       "5  deontherealmvp                                     463\n",
       "6      acmartin33   SPRINGFIELD, MO, KC, MO           274\n",
       "7       NateBreen                        IA           365\n",
       "8      kevinrice1               Atlanta, Ga           322\n",
       "9   DiegoGarcesTV                                    4013"
      ]
     },
     "execution_count": 50,
     "metadata": {},
     "output_type": "execute_result"
    }
   ],
   "source": [
    "#create a dataframe called tweet_df\n",
    "tweet_df = pd.DataFrame(data=users_locs, \n",
    "                    columns=['Twitter User', \"Location\",\"Follow Count\"])\n",
    "tweet_df.head(10)"
   ]
  },
  {
   "cell_type": "markdown",
   "metadata": {},
   "source": [
    "## Remove URLs\n",
    "- I will use regular expression to remove unwanted characters and URLs"
   ]
  },
  {
   "cell_type": "code",
   "execution_count": 10,
   "metadata": {},
   "outputs": [],
   "source": [
    "#import regular expression library\n",
    "import re"
   ]
  },
  {
   "cell_type": "code",
   "execution_count": 11,
   "metadata": {},
   "outputs": [],
   "source": [
    "#define remove_url function to remove the url using regex\n",
    "def remove_url(txt):\n",
    "    return \" \".join(re.sub(\"([^0-9A-Za-z \\t])|(\\w+:\\/\\/\\S+)\", \"\", txt).split())"
   ]
  },
  {
   "cell_type": "code",
   "execution_count": 51,
   "metadata": {},
   "outputs": [
    {
     "data": {
      "text/plain": [
       "['I was watching Kobe last game so I stared to think why Good people are dying There is a lot bad people who hurt',\n",
       " 'Seeing this replay of KobeBryant last game on ABCnetwork aside from missing him its painful to watch Seeing',\n",
       " 'Im always told God has a reason for everything but I still dont why Kobe Bryant along with his daughter the sev',\n",
       " 'Im watching kobebryant farewell game on ABCNetwork and its still amazing what he did in that game KobeBryant',\n",
       " 'Man this KobeBryant farewell game replay has me way too into my feelings seeing him and his girls on the sideline Lakers RIPKobeBryant',\n",
       " 'The KobeBryant farewell game is just ridiculous I remember watching it live Rewatching it again is just still cr',\n",
       " 'This KobeBryant farewell game puts me in awe every time I see it especially his will as he finishes off the last',\n",
       " 'SHAQs face when KobeBryant scored that jumper again the utahjazz in his Last game as a Lakers PRICELESS',\n",
       " 'Lifelong celtics fan watching Kobes last game with goosebumps in the first quarter Greatness MambaMentality',\n",
       " 'Just watching KobeBryant drop 60 in his last game after 20 seasons Let me know when someone matches that']"
      ]
     },
     "execution_count": 51,
     "metadata": {},
     "output_type": "execute_result"
    }
   ],
   "source": [
    "#after defining function, you can call it in a list comprehension to create a list of the clean tweet\n",
    "all_tweets_no_urls = [remove_url(tweet) for tweet in all_tweets]\n",
    "\n",
    "#search for the 10 most recent tweets\n",
    "all_tweets_no_urls[:10]"
   ]
  },
  {
   "cell_type": "markdown",
   "metadata": {},
   "source": [
    "## Change case sensitivity\n",
    "- I will change all text to lowercase for cleaner analysis\n",
    "- This will ensure that each word will be unique/distinct"
   ]
  },
  {
   "cell_type": "code",
   "execution_count": 52,
   "metadata": {},
   "outputs": [
    {
     "data": {
      "text/plain": [
       "['i',\n",
       " 'was',\n",
       " 'watching',\n",
       " 'kobe',\n",
       " 'last',\n",
       " 'game',\n",
       " 'so',\n",
       " 'i',\n",
       " 'stared',\n",
       " 'to',\n",
       " 'think',\n",
       " 'why',\n",
       " 'good',\n",
       " 'people',\n",
       " 'are',\n",
       " 'dying',\n",
       " 'there',\n",
       " 'is',\n",
       " 'a',\n",
       " 'lot',\n",
       " 'bad',\n",
       " 'people',\n",
       " 'who',\n",
       " 'hurt']"
      ]
     },
     "execution_count": 52,
     "metadata": {},
     "output_type": "execute_result"
    }
   ],
   "source": [
    "#split the words from one tweet into unique elements\n",
    "#use string method .lower() to get all lowercase words\n",
    "all_tweets_no_urls[0].lower().split()"
   ]
  },
  {
   "cell_type": "code",
   "execution_count": 14,
   "metadata": {},
   "outputs": [
    {
     "data": {
      "text/plain": [
       "[['i',\n",
       "  'was',\n",
       "  'watching',\n",
       "  'kobe',\n",
       "  'last',\n",
       "  'game',\n",
       "  'so',\n",
       "  'i',\n",
       "  'stared',\n",
       "  'to',\n",
       "  'think',\n",
       "  'why',\n",
       "  'good',\n",
       "  'people',\n",
       "  'are',\n",
       "  'dying',\n",
       "  'there',\n",
       "  'is',\n",
       "  'a',\n",
       "  'lot',\n",
       "  'bad',\n",
       "  'people',\n",
       "  'who',\n",
       "  'hurt'],\n",
       " ['seeing',\n",
       "  'this',\n",
       "  'replay',\n",
       "  'of',\n",
       "  'kobebryant',\n",
       "  'last',\n",
       "  'game',\n",
       "  'on',\n",
       "  'abcnetwork',\n",
       "  'aside',\n",
       "  'from',\n",
       "  'missing',\n",
       "  'him',\n",
       "  'its',\n",
       "  'painful',\n",
       "  'to',\n",
       "  'watch',\n",
       "  'seeing'],\n",
       " ['im',\n",
       "  'always',\n",
       "  'told',\n",
       "  'god',\n",
       "  'has',\n",
       "  'a',\n",
       "  'reason',\n",
       "  'for',\n",
       "  'everything',\n",
       "  'but',\n",
       "  'i',\n",
       "  'still',\n",
       "  'dont',\n",
       "  'why',\n",
       "  'kobe',\n",
       "  'bryant',\n",
       "  'along',\n",
       "  'with',\n",
       "  'his',\n",
       "  'daughter',\n",
       "  'the',\n",
       "  'sev']]"
      ]
     },
     "execution_count": 14,
     "metadata": {},
     "output_type": "execute_result"
    }
   ],
   "source": [
    "#create a list of lists containing lowercase words for each tweet\n",
    "words_in_tweet = [tweet.lower().split() for tweet in all_tweets_no_urls]\n",
    "\n",
    "#let's just display the top 3 tweets\n",
    "words_in_tweet[:3]"
   ]
  },
  {
   "cell_type": "markdown",
   "metadata": {},
   "source": [
    "## Word Frequency\n",
    "- I will calculate the count of each word that appears in my sample\n",
    "- Use itertools to flatten the list, so all words across the tweets are in one list"
   ]
  },
  {
   "cell_type": "code",
   "execution_count": 15,
   "metadata": {},
   "outputs": [],
   "source": [
    "#import itertools for visualization\n",
    "import itertools\n",
    "\n",
    "#import collections library to deal with collections\n",
    "import collections"
   ]
  },
  {
   "cell_type": "code",
   "execution_count": 53,
   "metadata": {},
   "outputs": [
    {
     "data": {
      "text/plain": [
       "[('kobebryant', 305),\n",
       " ('the', 258),\n",
       " ('kobe', 196),\n",
       " ('to', 143),\n",
       " ('of', 130),\n",
       " ('a', 110),\n",
       " ('and', 93),\n",
       " ('in', 93),\n",
       " ('bryant', 85),\n",
       " ('i', 84),\n",
       " ('is', 77),\n",
       " ('nba', 71),\n",
       " ('for', 68),\n",
       " ('on', 65),\n",
       " ('this', 54)]"
      ]
     },
     "execution_count": 53,
     "metadata": {},
     "output_type": "execute_result"
    }
   ],
   "source": [
    "# List of all words across tweets\n",
    "all_words_no_urls = list(itertools.chain(*words_in_tweet))\n",
    "\n",
    "# Create counter\n",
    "counts_no_urls = collections.Counter(all_words_no_urls)\n",
    "\n",
    "counts_no_urls.most_common(15)"
   ]
  },
  {
   "cell_type": "code",
   "execution_count": 54,
   "metadata": {},
   "outputs": [
    {
     "data": {
      "text/html": [
       "<div>\n",
       "<style scoped>\n",
       "    .dataframe tbody tr th:only-of-type {\n",
       "        vertical-align: middle;\n",
       "    }\n",
       "\n",
       "    .dataframe tbody tr th {\n",
       "        vertical-align: top;\n",
       "    }\n",
       "\n",
       "    .dataframe thead th {\n",
       "        text-align: right;\n",
       "    }\n",
       "</style>\n",
       "<table border=\"1\" class=\"dataframe\">\n",
       "  <thead>\n",
       "    <tr style=\"text-align: right;\">\n",
       "      <th></th>\n",
       "      <th>words</th>\n",
       "      <th>count</th>\n",
       "    </tr>\n",
       "  </thead>\n",
       "  <tbody>\n",
       "    <tr>\n",
       "      <th>0</th>\n",
       "      <td>kobebryant</td>\n",
       "      <td>305</td>\n",
       "    </tr>\n",
       "    <tr>\n",
       "      <th>1</th>\n",
       "      <td>the</td>\n",
       "      <td>258</td>\n",
       "    </tr>\n",
       "    <tr>\n",
       "      <th>2</th>\n",
       "      <td>kobe</td>\n",
       "      <td>196</td>\n",
       "    </tr>\n",
       "    <tr>\n",
       "      <th>3</th>\n",
       "      <td>to</td>\n",
       "      <td>143</td>\n",
       "    </tr>\n",
       "    <tr>\n",
       "      <th>4</th>\n",
       "      <td>of</td>\n",
       "      <td>130</td>\n",
       "    </tr>\n",
       "  </tbody>\n",
       "</table>\n",
       "</div>"
      ],
      "text/plain": [
       "        words  count\n",
       "0  kobebryant    305\n",
       "1         the    258\n",
       "2        kobe    196\n",
       "3          to    143\n",
       "4          of    130"
      ]
     },
     "execution_count": 54,
     "metadata": {},
     "output_type": "execute_result"
    }
   ],
   "source": [
    "#create dataframe for analysis and plotting for top 15 words\n",
    "clean_tweets_no_urls = pd.DataFrame(counts_no_urls.most_common(15),\n",
    "                             columns=['words', 'count'])\n",
    "\n",
    "clean_tweets_no_urls.head()"
   ]
  },
  {
   "cell_type": "code",
   "execution_count": 55,
   "metadata": {},
   "outputs": [
    {
     "data": {
      "image/png": "[encoded data removed]",
      "text/plain": [
       "<Figure size 576x576 with 1 Axes>"
      ]
     },
     "metadata": {},
     "output_type": "display_data"
    }
   ],
   "source": [
    "#create horizontal bar graph with top 15 common words\n",
    "sns.set(font_scale=1.2)\n",
    "sns.set_style(\"whitegrid\")\n",
    "\n",
    "fig, ax = plt.subplots(figsize=(8, 8))\n",
    "\n",
    "\n",
    "#plot horizontal bar graph\n",
    "clean_tweets_no_urls.sort_values(by='count').plot.barh(x='words',\n",
    "                      y='count',\n",
    "                      ax=ax,\n",
    "                      color=\"SteelBlue\")\n",
    "\n",
    "ax.set_title(\"Common Words in #KobeBryant Tweets (all words)\")\n",
    "\n",
    "#display plot\n",
    "plt.show()"
   ]
  },
  {
   "cell_type": "markdown",
   "metadata": {},
   "source": [
    "## Remove stopwords\n",
    "- Stop words can include words like who, what, is, on, you, i, to, my"
   ]
  },
  {
   "cell_type": "code",
   "execution_count": 19,
   "metadata": {},
   "outputs": [],
   "source": [
    "#import nltk to deal with natural processing language\n",
    "import nltk\n",
    "from nltk.corpus import stopwords"
   ]
  },
  {
   "cell_type": "code",
   "execution_count": 20,
   "metadata": {},
   "outputs": [
    {
     "name": "stderr",
     "output_type": "stream",
     "text": [
      "[nltk_data] Downloading package stopwords to\n",
      "[nltk_data]     /Users/dannylam/nltk_data...\n",
      "[nltk_data]   Package stopwords is already up-to-date!\n"
     ]
    },
    {
     "data": {
      "text/plain": [
       "True"
      ]
     },
     "execution_count": 20,
     "metadata": {},
     "output_type": "execute_result"
    }
   ],
   "source": [
    "#provides a list of stopwords to use to clean Twitter data\n",
    "nltk.download('stopwords')"
   ]
  },
  {
   "cell_type": "code",
   "execution_count": 21,
   "metadata": {},
   "outputs": [
    {
     "data": {
      "text/plain": [
       "['if',\n",
       " 'herself',\n",
       " 'having',\n",
       " 'under',\n",
       " 'each',\n",
       " 'our',\n",
       " 'ourselves',\n",
       " \"don't\",\n",
       " 'other',\n",
       " 'below',\n",
       " 'yourself',\n",
       " 's',\n",
       " 'this',\n",
       " \"weren't\",\n",
       " 'the',\n",
       " 'your',\n",
       " 'up',\n",
       " 'or',\n",
       " 'had',\n",
       " 'both']"
      ]
     },
     "execution_count": 21,
     "metadata": {},
     "output_type": "execute_result"
    }
   ],
   "source": [
    "stop_words = set(stopwords.words('english'))\n",
    "\n",
    "#view 20 words from the set\n",
    "list(stop_words)[0:20]"
   ]
  },
  {
   "cell_type": "code",
   "execution_count": 56,
   "metadata": {},
   "outputs": [
    {
     "data": {
      "text/plain": [
       "['watching',\n",
       " 'kobe',\n",
       " 'last',\n",
       " 'game',\n",
       " 'stared',\n",
       " 'think',\n",
       " 'good',\n",
       " 'people',\n",
       " 'dying',\n",
       " 'lot',\n",
       " 'bad',\n",
       " 'people',\n",
       " 'hurt']"
      ]
     },
     "execution_count": 56,
     "metadata": {},
     "output_type": "execute_result"
    }
   ],
   "source": [
    "#remove stop words from each tweet list of words\n",
    "tweets_nsw = [[word for word in tweet_words if not word in stop_words]\n",
    "              for tweet_words in words_in_tweet]\n",
    "\n",
    "#display first tweet with no stop words\n",
    "tweets_nsw[0]"
   ]
  },
  {
   "cell_type": "code",
   "execution_count": 57,
   "metadata": {},
   "outputs": [
    {
     "data": {
      "text/plain": [
       "[('kobebryant', 305),\n",
       " ('kobe', 196),\n",
       " ('bryant', 85),\n",
       " ('nba', 71),\n",
       " ('crash', 53),\n",
       " ('lakers', 52),\n",
       " ('helicopter', 44),\n",
       " ('mamba', 43),\n",
       " ('game', 38),\n",
       " ('basketball', 38),\n",
       " ('sports', 35),\n",
       " ('pilot', 30),\n",
       " ('last', 28),\n",
       " ('autopsy', 27),\n",
       " ('academy', 24)]"
      ]
     },
     "execution_count": 57,
     "metadata": {},
     "output_type": "execute_result"
    }
   ],
   "source": [
    "#use itertools to return most commonly used words and their count\n",
    "all_words_nsw = list(itertools.chain(*tweets_nsw))\n",
    "\n",
    "#this gets the count of the common words\n",
    "counts_nsw = collections.Counter(all_words_nsw)\n",
    "\n",
    "#display 15 most common words\n",
    "counts_nsw.most_common(15)"
   ]
  },
  {
   "cell_type": "code",
   "execution_count": 58,
   "metadata": {},
   "outputs": [
    {
     "data": {
      "image/png": "[encoded data removed]",
      "text/plain": [
       "<Figure size 576x576 with 1 Axes>"
      ]
     },
     "metadata": {},
     "output_type": "display_data"
    }
   ],
   "source": [
    "#now we will recreate the plot, but now without any stopwords\n",
    "clean_tweets_nsw = pd.DataFrame(counts_nsw.most_common(15),\n",
    "                             columns=['words', 'count'])\n",
    "\n",
    "fig, ax = plt.subplots(figsize=(8, 8))\n",
    "\n",
    "# Plot horizontal bar graph\n",
    "clean_tweets_nsw.sort_values(by='count').plot.barh(x='words',\n",
    "                      y='count',\n",
    "                      ax=ax,\n",
    "                      color=\"SteelBlue\")\n",
    "\n",
    "ax.set_title(\"Common Words in #KobeBryant Tweets (No Stop Words)\")\n",
    "\n",
    "plt.show()"
   ]
  },
  {
   "cell_type": "markdown",
   "metadata": {},
   "source": [
    "## Remove collection words\n",
    "- Collection words are words used to query data from Twitter\n",
    "- Removing these collections words will better clean the data for frequency analysis"
   ]
  },
  {
   "cell_type": "code",
   "execution_count": 25,
   "metadata": {},
   "outputs": [],
   "source": [
    "collection_words = ['kobe', 'bryant', 'kobebryant', 'bryants']\n",
    "tweets_nsw_nc = [[w for w in word if not w in collection_words]\n",
    "                 for word in tweets_nsw]"
   ]
  },
  {
   "cell_type": "code",
   "execution_count": 59,
   "metadata": {},
   "outputs": [
    {
     "data": {
      "text/plain": [
       "['im',\n",
       " 'always',\n",
       " 'told',\n",
       " 'god',\n",
       " 'reason',\n",
       " 'everything',\n",
       " 'still',\n",
       " 'dont',\n",
       " 'kobe',\n",
       " 'bryant',\n",
       " 'along',\n",
       " 'daughter',\n",
       " 'sev']"
      ]
     },
     "execution_count": 59,
     "metadata": {},
     "output_type": "execute_result"
    }
   ],
   "source": [
    "#here is a tweet before removing collection words\n",
    "tweets_nsw[2]"
   ]
  },
  {
   "cell_type": "code",
   "execution_count": 27,
   "metadata": {},
   "outputs": [
    {
     "data": {
      "text/plain": [
       "['im',\n",
       " 'always',\n",
       " 'told',\n",
       " 'god',\n",
       " 'reason',\n",
       " 'everything',\n",
       " 'still',\n",
       " 'dont',\n",
       " 'along',\n",
       " 'daughter',\n",
       " 'sev']"
      ]
     },
     "execution_count": 27,
     "metadata": {},
     "output_type": "execute_result"
    }
   ],
   "source": [
    "#after we remove the collection words, there is no more kobebryant words\n",
    "tweets_nsw_nc[2]"
   ]
  },
  {
   "cell_type": "markdown",
   "metadata": {},
   "source": [
    "## Word frequency with Clean Tweets\n",
    "- Now the data is clean from stop words and collection words\n",
    "- I will flatten the list and create a counter for the words"
   ]
  },
  {
   "cell_type": "code",
   "execution_count": 28,
   "metadata": {},
   "outputs": [
    {
     "data": {
      "text/plain": [
       "[('nba', 71),\n",
       " ('crash', 53),\n",
       " ('lakers', 52),\n",
       " ('helicopter', 44),\n",
       " ('mamba', 43),\n",
       " ('game', 38),\n",
       " ('basketball', 38),\n",
       " ('sports', 35),\n",
       " ('pilot', 30),\n",
       " ('last', 28),\n",
       " ('autopsy', 27),\n",
       " ('academy', 24),\n",
       " ('time', 23),\n",
       " ('espn', 20),\n",
       " ('drugs', 19)]"
      ]
     },
     "execution_count": 28,
     "metadata": {},
     "output_type": "execute_result"
    }
   ],
   "source": [
    "#flatten list of words in clean tweets\n",
    "all_words_nsw_nc = list(itertools.chain(*tweets_nsw_nc))\n",
    "\n",
    "#create counter of words in clean tweets\n",
    "counts_nsw_nc = collections.Counter(all_words_nsw_nc)\n",
    "\n",
    "#display 15 common words\n",
    "counts_nsw_nc.most_common(15)"
   ]
  },
  {
   "cell_type": "code",
   "execution_count": 29,
   "metadata": {},
   "outputs": [
    {
     "data": {
      "text/plain": [
       "1950"
      ]
     },
     "execution_count": 29,
     "metadata": {},
     "output_type": "execute_result"
    }
   ],
   "source": [
    "#find the amount of unique words across all tweets\n",
    "len(counts_nsw_nc)"
   ]
  },
  {
   "cell_type": "code",
   "execution_count": 30,
   "metadata": {},
   "outputs": [
    {
     "data": {
      "text/html": [
       "<div>\n",
       "<style scoped>\n",
       "    .dataframe tbody tr th:only-of-type {\n",
       "        vertical-align: middle;\n",
       "    }\n",
       "\n",
       "    .dataframe tbody tr th {\n",
       "        vertical-align: top;\n",
       "    }\n",
       "\n",
       "    .dataframe thead th {\n",
       "        text-align: right;\n",
       "    }\n",
       "</style>\n",
       "<table border=\"1\" class=\"dataframe\">\n",
       "  <thead>\n",
       "    <tr style=\"text-align: right;\">\n",
       "      <th></th>\n",
       "      <th>words</th>\n",
       "      <th>count</th>\n",
       "    </tr>\n",
       "  </thead>\n",
       "  <tbody>\n",
       "    <tr>\n",
       "      <th>0</th>\n",
       "      <td>nba</td>\n",
       "      <td>71</td>\n",
       "    </tr>\n",
       "    <tr>\n",
       "      <th>1</th>\n",
       "      <td>crash</td>\n",
       "      <td>53</td>\n",
       "    </tr>\n",
       "    <tr>\n",
       "      <th>2</th>\n",
       "      <td>lakers</td>\n",
       "      <td>52</td>\n",
       "    </tr>\n",
       "    <tr>\n",
       "      <th>3</th>\n",
       "      <td>helicopter</td>\n",
       "      <td>44</td>\n",
       "    </tr>\n",
       "    <tr>\n",
       "      <th>4</th>\n",
       "      <td>mamba</td>\n",
       "      <td>43</td>\n",
       "    </tr>\n",
       "    <tr>\n",
       "      <th>5</th>\n",
       "      <td>game</td>\n",
       "      <td>38</td>\n",
       "    </tr>\n",
       "    <tr>\n",
       "      <th>6</th>\n",
       "      <td>basketball</td>\n",
       "      <td>38</td>\n",
       "    </tr>\n",
       "    <tr>\n",
       "      <th>7</th>\n",
       "      <td>sports</td>\n",
       "      <td>35</td>\n",
       "    </tr>\n",
       "    <tr>\n",
       "      <th>8</th>\n",
       "      <td>pilot</td>\n",
       "      <td>30</td>\n",
       "    </tr>\n",
       "    <tr>\n",
       "      <th>9</th>\n",
       "      <td>last</td>\n",
       "      <td>28</td>\n",
       "    </tr>\n",
       "    <tr>\n",
       "      <th>10</th>\n",
       "      <td>autopsy</td>\n",
       "      <td>27</td>\n",
       "    </tr>\n",
       "    <tr>\n",
       "      <th>11</th>\n",
       "      <td>academy</td>\n",
       "      <td>24</td>\n",
       "    </tr>\n",
       "    <tr>\n",
       "      <th>12</th>\n",
       "      <td>time</td>\n",
       "      <td>23</td>\n",
       "    </tr>\n",
       "    <tr>\n",
       "      <th>13</th>\n",
       "      <td>espn</td>\n",
       "      <td>20</td>\n",
       "    </tr>\n",
       "    <tr>\n",
       "      <th>14</th>\n",
       "      <td>drugs</td>\n",
       "      <td>19</td>\n",
       "    </tr>\n",
       "  </tbody>\n",
       "</table>\n",
       "</div>"
      ],
      "text/plain": [
       "         words  count\n",
       "0          nba     71\n",
       "1        crash     53\n",
       "2       lakers     52\n",
       "3   helicopter     44\n",
       "4        mamba     43\n",
       "5         game     38\n",
       "6   basketball     38\n",
       "7       sports     35\n",
       "8        pilot     30\n",
       "9         last     28\n",
       "10     autopsy     27\n",
       "11     academy     24\n",
       "12        time     23\n",
       "13        espn     20\n",
       "14       drugs     19"
      ]
     },
     "execution_count": 30,
     "metadata": {},
     "output_type": "execute_result"
    }
   ],
   "source": [
    "#create dataframe of words and count\n",
    "clean_tweets_ncw = pd.DataFrame(counts_nsw_nc.most_common(15),\n",
    "                             columns=['words', 'count'])\n",
    "clean_tweets_ncw.head(15)"
   ]
  },
  {
   "cell_type": "code",
   "execution_count": 31,
   "metadata": {},
   "outputs": [
    {
     "data": {
      "image/png": "[encoded data removed]",
      "text/plain": [
       "<Figure size 576x576 with 1 Axes>"
      ]
     },
     "metadata": {},
     "output_type": "display_data"
    }
   ],
   "source": [
    "#plot 15 most common words with all clean data\n",
    "fig, ax = plt.subplots(figsize=(8, 8))\n",
    "\n",
    "#plot horizontal bar graph\n",
    "clean_tweets_ncw.sort_values(by='count').plot.barh(x='words',\n",
    "                      y='count',\n",
    "                      ax=ax,\n",
    "                      color=\"SteelBlue\")\n",
    "\n",
    "ax.set_title(\"Common Words #KobeBryant Tweets (No Stop/Collection Words)\")\n",
    "\n",
    "plt.show()"
   ]
  },
  {
   "cell_type": "markdown",
   "metadata": {},
   "source": [
    "## Pandas dataframe"
   ]
  },
  {
   "cell_type": "code",
   "execution_count": 32,
   "metadata": {},
   "outputs": [
    {
     "data": {
      "text/plain": [
       "[['I was watching Kobe last game so I stared to think why Good people are dying There is a lot bad people who hurt',\n",
       "  139,\n",
       "  datetime.datetime(2020, 5, 17, 2, 46, 16),\n",
       "  'Twitter for iPhone',\n",
       "  'omer_kamba',\n",
       "  1,\n",
       "  0],\n",
       " ['Seeing this replay of KobeBryant last game on ABCnetwork aside from missing him its painful to watch Seeing',\n",
       "  139,\n",
       "  datetime.datetime(2020, 5, 17, 2, 46),\n",
       "  'Twitter for iPhone',\n",
       "  'coolmanolo',\n",
       "  0,\n",
       "  0],\n",
       " ['Im always told God has a reason for everything but I still dont why Kobe Bryant along with his daughter the sev',\n",
       "  140,\n",
       "  datetime.datetime(2020, 5, 17, 2, 45, 59),\n",
       "  'Twitter for Android',\n",
       "  'kevinlockett',\n",
       "  0,\n",
       "  0],\n",
       " ['Im watching kobebryant farewell game on ABCNetwork and its still amazing what he did in that game KobeBryant',\n",
       "  114,\n",
       "  datetime.datetime(2020, 5, 17, 2, 44, 37),\n",
       "  'Twitter for Android',\n",
       "  'deontherealmvp',\n",
       "  0,\n",
       "  0],\n",
       " ['Man this KobeBryant farewell game replay has me way too into my feelings seeing him and his girls on the sideline Lakers RIPKobeBryant',\n",
       "  137,\n",
       "  datetime.datetime(2020, 5, 17, 2, 44, 27),\n",
       "  'Twitter for iPhone',\n",
       "  'acmartin33',\n",
       "  0,\n",
       "  0]]"
      ]
     },
     "execution_count": 32,
     "metadata": {},
     "output_type": "execute_result"
    }
   ],
   "source": [
    "#create a dataframe so we can do some visualizations\n",
    "#define tweets to collect 500 tweets\n",
    "tweets2 = tweepy.Cursor(twitter_api.search, \n",
    "                           q=new_search,\n",
    "                           lang=\"en\",\n",
    "                           since=date_since).items(500)\n",
    "\n",
    "\n",
    "TDF = [[remove_url(tweet.text),\n",
    "        len(tweet.text),\n",
    "        tweet.created_at,\n",
    "        tweet.source,\n",
    "        tweet.user.screen_name, \n",
    "        tweet.favorite_count,\n",
    "        tweet.retweet_count] for tweet in tweets2]\n",
    "\n",
    "#only view the top 5 \n",
    "TDF[:5]"
   ]
  },
  {
   "cell_type": "code",
   "execution_count": 33,
   "metadata": {},
   "outputs": [
    {
     "data": {
      "text/html": [
       "<div>\n",
       "<style scoped>\n",
       "    .dataframe tbody tr th:only-of-type {\n",
       "        vertical-align: middle;\n",
       "    }\n",
       "\n",
       "    .dataframe tbody tr th {\n",
       "        vertical-align: top;\n",
       "    }\n",
       "\n",
       "    .dataframe thead th {\n",
       "        text-align: right;\n",
       "    }\n",
       "</style>\n",
       "<table border=\"1\" class=\"dataframe\">\n",
       "  <thead>\n",
       "    <tr style=\"text-align: right;\">\n",
       "      <th></th>\n",
       "      <th>Tweets</th>\n",
       "      <th>Length</th>\n",
       "      <th>Date</th>\n",
       "      <th>Source</th>\n",
       "      <th>User</th>\n",
       "      <th>Likes</th>\n",
       "      <th>RTs</th>\n",
       "    </tr>\n",
       "  </thead>\n",
       "  <tbody>\n",
       "    <tr>\n",
       "      <th>0</th>\n",
       "      <td>I was watching Kobe last game so I stared to t...</td>\n",
       "      <td>139</td>\n",
       "      <td>2020-05-17 02:46:16</td>\n",
       "      <td>Twitter for iPhone</td>\n",
       "      <td>omer_kamba</td>\n",
       "      <td>1</td>\n",
       "      <td>0</td>\n",
       "    </tr>\n",
       "    <tr>\n",
       "      <th>1</th>\n",
       "      <td>Seeing this replay of KobeBryant last game on ...</td>\n",
       "      <td>139</td>\n",
       "      <td>2020-05-17 02:46:00</td>\n",
       "      <td>Twitter for iPhone</td>\n",
       "      <td>coolmanolo</td>\n",
       "      <td>0</td>\n",
       "      <td>0</td>\n",
       "    </tr>\n",
       "    <tr>\n",
       "      <th>2</th>\n",
       "      <td>Im always told God has a reason for everything...</td>\n",
       "      <td>140</td>\n",
       "      <td>2020-05-17 02:45:59</td>\n",
       "      <td>Twitter for Android</td>\n",
       "      <td>kevinlockett</td>\n",
       "      <td>0</td>\n",
       "      <td>0</td>\n",
       "    </tr>\n",
       "    <tr>\n",
       "      <th>3</th>\n",
       "      <td>Im watching kobebryant farewell game on ABCNet...</td>\n",
       "      <td>114</td>\n",
       "      <td>2020-05-17 02:44:37</td>\n",
       "      <td>Twitter for Android</td>\n",
       "      <td>deontherealmvp</td>\n",
       "      <td>0</td>\n",
       "      <td>0</td>\n",
       "    </tr>\n",
       "    <tr>\n",
       "      <th>4</th>\n",
       "      <td>Man this KobeBryant farewell game replay has m...</td>\n",
       "      <td>137</td>\n",
       "      <td>2020-05-17 02:44:27</td>\n",
       "      <td>Twitter for iPhone</td>\n",
       "      <td>acmartin33</td>\n",
       "      <td>0</td>\n",
       "      <td>0</td>\n",
       "    </tr>\n",
       "    <tr>\n",
       "      <th>5</th>\n",
       "      <td>The KobeBryant farewell game is just ridiculou...</td>\n",
       "      <td>140</td>\n",
       "      <td>2020-05-17 02:44:23</td>\n",
       "      <td>Twitter for Android</td>\n",
       "      <td>NateBreen</td>\n",
       "      <td>0</td>\n",
       "      <td>0</td>\n",
       "    </tr>\n",
       "    <tr>\n",
       "      <th>6</th>\n",
       "      <td>This KobeBryant farewell game puts me in awe e...</td>\n",
       "      <td>139</td>\n",
       "      <td>2020-05-17 02:43:59</td>\n",
       "      <td>Twitter for iPhone</td>\n",
       "      <td>kevinrice1</td>\n",
       "      <td>0</td>\n",
       "      <td>0</td>\n",
       "    </tr>\n",
       "    <tr>\n",
       "      <th>7</th>\n",
       "      <td>SHAQs face when KobeBryant scored that jumper ...</td>\n",
       "      <td>112</td>\n",
       "      <td>2020-05-17 02:43:47</td>\n",
       "      <td>Twitter for iPhone</td>\n",
       "      <td>DiegoGarcesTV</td>\n",
       "      <td>1</td>\n",
       "      <td>0</td>\n",
       "    </tr>\n",
       "    <tr>\n",
       "      <th>8</th>\n",
       "      <td>Lifelong celtics fan watching Kobes last game ...</td>\n",
       "      <td>140</td>\n",
       "      <td>2020-05-17 02:41:44</td>\n",
       "      <td>Twitter for Android</td>\n",
       "      <td>MattyVaught</td>\n",
       "      <td>3</td>\n",
       "      <td>1</td>\n",
       "    </tr>\n",
       "    <tr>\n",
       "      <th>9</th>\n",
       "      <td>Just watching KobeBryant drop 60 in his last g...</td>\n",
       "      <td>132</td>\n",
       "      <td>2020-05-17 02:40:50</td>\n",
       "      <td>Twitter for iPhone</td>\n",
       "      <td>DKscout22</td>\n",
       "      <td>2</td>\n",
       "      <td>1</td>\n",
       "    </tr>\n",
       "  </tbody>\n",
       "</table>\n",
       "</div>"
      ],
      "text/plain": [
       "                                              Tweets  Length  \\\n",
       "0  I was watching Kobe last game so I stared to t...     139   \n",
       "1  Seeing this replay of KobeBryant last game on ...     139   \n",
       "2  Im always told God has a reason for everything...     140   \n",
       "3  Im watching kobebryant farewell game on ABCNet...     114   \n",
       "4  Man this KobeBryant farewell game replay has m...     137   \n",
       "5  The KobeBryant farewell game is just ridiculou...     140   \n",
       "6  This KobeBryant farewell game puts me in awe e...     139   \n",
       "7  SHAQs face when KobeBryant scored that jumper ...     112   \n",
       "8  Lifelong celtics fan watching Kobes last game ...     140   \n",
       "9  Just watching KobeBryant drop 60 in his last g...     132   \n",
       "\n",
       "                 Date               Source            User  Likes  RTs  \n",
       "0 2020-05-17 02:46:16   Twitter for iPhone      omer_kamba      1    0  \n",
       "1 2020-05-17 02:46:00   Twitter for iPhone      coolmanolo      0    0  \n",
       "2 2020-05-17 02:45:59  Twitter for Android    kevinlockett      0    0  \n",
       "3 2020-05-17 02:44:37  Twitter for Android  deontherealmvp      0    0  \n",
       "4 2020-05-17 02:44:27   Twitter for iPhone      acmartin33      0    0  \n",
       "5 2020-05-17 02:44:23  Twitter for Android       NateBreen      0    0  \n",
       "6 2020-05-17 02:43:59   Twitter for iPhone      kevinrice1      0    0  \n",
       "7 2020-05-17 02:43:47   Twitter for iPhone   DiegoGarcesTV      1    0  \n",
       "8 2020-05-17 02:41:44  Twitter for Android     MattyVaught      3    1  \n",
       "9 2020-05-17 02:40:50   Twitter for iPhone       DKscout22      2    1  "
      ]
     },
     "execution_count": 33,
     "metadata": {},
     "output_type": "execute_result"
    }
   ],
   "source": [
    "#create a dataframe called tweet_df\n",
    "tweet_DF = pd.DataFrame(data=TDF, \n",
    "                    columns=['Tweets',\n",
    "                             'Length',\n",
    "                             'Date',\n",
    "                             'Source',\n",
    "                             'User',\n",
    "                             'Likes',\n",
    "                             'RTs'])\n",
    "\n",
    "tweet_DF.head(10)"
   ]
  },
  {
   "cell_type": "markdown",
   "metadata": {},
   "source": [
    "## Visualization and basic statistics"
   ]
  },
  {
   "cell_type": "code",
   "execution_count": 34,
   "metadata": {},
   "outputs": [
    {
     "name": "stdout",
     "output_type": "stream",
     "text": [
      "The average tweet length is: 122.864 characters\n"
     ]
    }
   ],
   "source": [
    "#extract the mean of length\n",
    "mean = tweet_DF['Length'].mean()\n",
    "\n",
    "print(\"The average tweet length is: {} characters\".format(mean))"
   ]
  },
  {
   "cell_type": "code",
   "execution_count": 35,
   "metadata": {},
   "outputs": [],
   "source": [
    "#create time series for data:\n",
    "tlen = pd.Series(data=tweet_DF['Length'].values, index=tweet_DF['Date'])\n",
    "tfav = pd.Series(data=tweet_DF['Likes'].values, index=tweet_DF['Date'])\n",
    "tret = pd.Series(data=tweet_DF['RTs'].values, index=tweet_DF['Date'])"
   ]
  },
  {
   "cell_type": "code",
   "execution_count": 36,
   "metadata": {},
   "outputs": [
    {
     "data": {
      "image/png": "[encoded data removed]",
      "text/plain": [
       "<Figure size 1152x288 with 1 Axes>"
      ]
     },
     "metadata": {},
     "output_type": "display_data"
    }
   ],
   "source": [
    "#tweet lengths from 5/13/20 to 5/17/20\n",
    "tlen.plot(figsize=(16,4), color='b',label=\"Length\", legend=True);"
   ]
  },
  {
   "cell_type": "code",
   "execution_count": 37,
   "metadata": {},
   "outputs": [
    {
     "data": {
      "image/png": "[encoded data removed]",
      "text/plain": [
       "<Figure size 1152x288 with 1 Axes>"
      ]
     },
     "metadata": {},
     "output_type": "display_data"
    }
   ],
   "source": [
    "#likes vs retweets visualization\n",
    "tfav.plot(figsize=(16,4), label=\"Likes\", legend=True)\n",
    "tret.plot(figsize=(16,4), label=\"Retweets\", legend=True);"
   ]
  },
  {
   "cell_type": "markdown",
   "metadata": {},
   "source": [
    "- above, we see one tweet that has really high likes on 5/14/20\n",
    "- next, i will find more info on this tweet by locating the idxmax"
   ]
  },
  {
   "cell_type": "code",
   "execution_count": 38,
   "metadata": {},
   "outputs": [
    {
     "data": {
      "text/plain": [
       "Tweets    KobeBryant is in my top 6AllTime Period\n",
       "Length                                         68\n",
       "Date                          2020-05-13 22:13:12\n",
       "Source                         Twitter for iPhone\n",
       "User                                realtuffjuice\n",
       "Likes                                         258\n",
       "RTs                                            19\n",
       "Name: 381, dtype: object"
      ]
     },
     "execution_count": 38,
     "metadata": {},
     "output_type": "execute_result"
    }
   ],
   "source": [
    "#locate the max amount of likes\n",
    "tweet_DF.loc[tweet_DF['Likes'].idxmax]"
   ]
  },
  {
   "cell_type": "code",
   "execution_count": 46,
   "metadata": {},
   "outputs": [
    {
     "data": {
      "text/html": [
       "<div>\n",
       "<style scoped>\n",
       "    .dataframe tbody tr th:only-of-type {\n",
       "        vertical-align: middle;\n",
       "    }\n",
       "\n",
       "    .dataframe tbody tr th {\n",
       "        vertical-align: top;\n",
       "    }\n",
       "\n",
       "    .dataframe thead th {\n",
       "        text-align: right;\n",
       "    }\n",
       "</style>\n",
       "<table border=\"1\" class=\"dataframe\">\n",
       "  <thead>\n",
       "    <tr style=\"text-align: right;\">\n",
       "      <th></th>\n",
       "      <th>Tweets</th>\n",
       "      <th>Length</th>\n",
       "      <th>Date</th>\n",
       "      <th>Source</th>\n",
       "      <th>User</th>\n",
       "      <th>Likes</th>\n",
       "      <th>RTs</th>\n",
       "      <th>SA</th>\n",
       "    </tr>\n",
       "  </thead>\n",
       "  <tbody>\n",
       "    <tr>\n",
       "      <th>381</th>\n",
       "      <td>KobeBryant is in my top 6AllTime Period</td>\n",
       "      <td>68</td>\n",
       "      <td>2020-05-13 22:13:12</td>\n",
       "      <td>Twitter for iPhone</td>\n",
       "      <td>realtuffjuice</td>\n",
       "      <td>258</td>\n",
       "      <td>19</td>\n",
       "      <td>1</td>\n",
       "    </tr>\n",
       "  </tbody>\n",
       "</table>\n",
       "</div>"
      ],
      "text/plain": [
       "                                      Tweets  Length                Date  \\\n",
       "381  KobeBryant is in my top 6AllTime Period      68 2020-05-13 22:13:12   \n",
       "\n",
       "                 Source           User  Likes  RTs  SA  \n",
       "381  Twitter for iPhone  realtuffjuice    258   19   1  "
      ]
     },
     "execution_count": 46,
     "metadata": {},
     "output_type": "execute_result"
    }
   ],
   "source": [
    "#258 likes is the highest\n",
    "#locate the info of the highest liked tweet\n",
    "tweet_DF.loc[tweet_DF['Likes']==258]"
   ]
  },
  {
   "cell_type": "code",
   "execution_count": 40,
   "metadata": {},
   "outputs": [
    {
     "name": "stdout",
     "output_type": "stream",
     "text": [
      "Creation of content sources:\n"
     ]
    },
    {
     "data": {
      "text/html": [
       "<div>\n",
       "<style scoped>\n",
       "    .dataframe tbody tr th:only-of-type {\n",
       "        vertical-align: middle;\n",
       "    }\n",
       "\n",
       "    .dataframe tbody tr th {\n",
       "        vertical-align: top;\n",
       "    }\n",
       "\n",
       "    .dataframe thead th {\n",
       "        text-align: right;\n",
       "    }\n",
       "</style>\n",
       "<table border=\"1\" class=\"dataframe\">\n",
       "  <thead>\n",
       "    <tr style=\"text-align: right;\">\n",
       "      <th></th>\n",
       "      <th>Length</th>\n",
       "      <th>Likes</th>\n",
       "      <th>RTs</th>\n",
       "    </tr>\n",
       "    <tr>\n",
       "      <th>Source</th>\n",
       "      <th></th>\n",
       "      <th></th>\n",
       "      <th></th>\n",
       "    </tr>\n",
       "  </thead>\n",
       "  <tbody>\n",
       "    <tr>\n",
       "      <th>Blog2Social APP</th>\n",
       "      <td>412</td>\n",
       "      <td>3</td>\n",
       "      <td>1</td>\n",
       "    </tr>\n",
       "    <tr>\n",
       "      <th>Buffer</th>\n",
       "      <td>353</td>\n",
       "      <td>1</td>\n",
       "      <td>1</td>\n",
       "    </tr>\n",
       "    <tr>\n",
       "      <th>Create Buzz Media Account</th>\n",
       "      <td>84</td>\n",
       "      <td>0</td>\n",
       "      <td>2</td>\n",
       "    </tr>\n",
       "    <tr>\n",
       "      <th>Crowdfire App</th>\n",
       "      <td>140</td>\n",
       "      <td>1</td>\n",
       "      <td>0</td>\n",
       "    </tr>\n",
       "    <tr>\n",
       "      <th>DataScienceInfo</th>\n",
       "      <td>121</td>\n",
       "      <td>0</td>\n",
       "      <td>1</td>\n",
       "    </tr>\n",
       "    <tr>\n",
       "      <th>Dynamic Tweets</th>\n",
       "      <td>456</td>\n",
       "      <td>1</td>\n",
       "      <td>0</td>\n",
       "    </tr>\n",
       "    <tr>\n",
       "      <th>Echobox</th>\n",
       "      <td>272</td>\n",
       "      <td>2</td>\n",
       "      <td>0</td>\n",
       "    </tr>\n",
       "    <tr>\n",
       "      <th>Etsy</th>\n",
       "      <td>132</td>\n",
       "      <td>0</td>\n",
       "      <td>0</td>\n",
       "    </tr>\n",
       "    <tr>\n",
       "      <th>Hootsuite Inc.</th>\n",
       "      <td>1067</td>\n",
       "      <td>13</td>\n",
       "      <td>3</td>\n",
       "    </tr>\n",
       "    <tr>\n",
       "      <th>Instagram</th>\n",
       "      <td>4443</td>\n",
       "      <td>5</td>\n",
       "      <td>13</td>\n",
       "    </tr>\n",
       "    <tr>\n",
       "      <th>LaterMedia</th>\n",
       "      <td>262</td>\n",
       "      <td>4</td>\n",
       "      <td>0</td>\n",
       "    </tr>\n",
       "    <tr>\n",
       "      <th>NetNaija Twiit</th>\n",
       "      <td>139</td>\n",
       "      <td>1</td>\n",
       "      <td>0</td>\n",
       "    </tr>\n",
       "    <tr>\n",
       "      <th>Nsemgh.com</th>\n",
       "      <td>135</td>\n",
       "      <td>0</td>\n",
       "      <td>0</td>\n",
       "    </tr>\n",
       "    <tr>\n",
       "      <th>Republicworld</th>\n",
       "      <td>1081</td>\n",
       "      <td>210</td>\n",
       "      <td>21</td>\n",
       "    </tr>\n",
       "    <tr>\n",
       "      <th>SocialFlow</th>\n",
       "      <td>100</td>\n",
       "      <td>0</td>\n",
       "      <td>0</td>\n",
       "    </tr>\n",
       "    <tr>\n",
       "      <th>SocialNewsDesk</th>\n",
       "      <td>132</td>\n",
       "      <td>0</td>\n",
       "      <td>0</td>\n",
       "    </tr>\n",
       "    <tr>\n",
       "      <th>Spreaker</th>\n",
       "      <td>262</td>\n",
       "      <td>1</td>\n",
       "      <td>0</td>\n",
       "    </tr>\n",
       "    <tr>\n",
       "      <th>TalkBasket</th>\n",
       "      <td>981</td>\n",
       "      <td>5</td>\n",
       "      <td>1</td>\n",
       "    </tr>\n",
       "    <tr>\n",
       "      <th>The Social Jukebox</th>\n",
       "      <td>212</td>\n",
       "      <td>1</td>\n",
       "      <td>0</td>\n",
       "    </tr>\n",
       "    <tr>\n",
       "      <th>TubeBuddy</th>\n",
       "      <td>840</td>\n",
       "      <td>0</td>\n",
       "      <td>0</td>\n",
       "    </tr>\n",
       "    <tr>\n",
       "      <th>TweetCaster for Android</th>\n",
       "      <td>270</td>\n",
       "      <td>0</td>\n",
       "      <td>0</td>\n",
       "    </tr>\n",
       "    <tr>\n",
       "      <th>TweetDeck</th>\n",
       "      <td>2932</td>\n",
       "      <td>81</td>\n",
       "      <td>38</td>\n",
       "    </tr>\n",
       "    <tr>\n",
       "      <th>Tweetbot for iΟS</th>\n",
       "      <td>60</td>\n",
       "      <td>0</td>\n",
       "      <td>0</td>\n",
       "    </tr>\n",
       "    <tr>\n",
       "      <th>Twitter Web App</th>\n",
       "      <td>10172</td>\n",
       "      <td>392</td>\n",
       "      <td>75</td>\n",
       "    </tr>\n",
       "    <tr>\n",
       "      <th>Twitter Web Client</th>\n",
       "      <td>1930</td>\n",
       "      <td>9</td>\n",
       "      <td>7</td>\n",
       "    </tr>\n",
       "    <tr>\n",
       "      <th>Twitter for Advertisers</th>\n",
       "      <td>140</td>\n",
       "      <td>1</td>\n",
       "      <td>1</td>\n",
       "    </tr>\n",
       "    <tr>\n",
       "      <th>Twitter for Android</th>\n",
       "      <td>11178</td>\n",
       "      <td>205</td>\n",
       "      <td>116</td>\n",
       "    </tr>\n",
       "    <tr>\n",
       "      <th>Twitter for Mac</th>\n",
       "      <td>98</td>\n",
       "      <td>6</td>\n",
       "      <td>1</td>\n",
       "    </tr>\n",
       "    <tr>\n",
       "      <th>Twitter for iPad</th>\n",
       "      <td>1260</td>\n",
       "      <td>5</td>\n",
       "      <td>1</td>\n",
       "    </tr>\n",
       "    <tr>\n",
       "      <th>Twitter for iPhone</th>\n",
       "      <td>20641</td>\n",
       "      <td>572</td>\n",
       "      <td>74</td>\n",
       "    </tr>\n",
       "    <tr>\n",
       "      <th>WordPress.com</th>\n",
       "      <td>133</td>\n",
       "      <td>1</td>\n",
       "      <td>0</td>\n",
       "    </tr>\n",
       "    <tr>\n",
       "      <th>dlvr.it</th>\n",
       "      <td>249</td>\n",
       "      <td>0</td>\n",
       "      <td>0</td>\n",
       "    </tr>\n",
       "    <tr>\n",
       "      <th>eClincher</th>\n",
       "      <td>131</td>\n",
       "      <td>1</td>\n",
       "      <td>0</td>\n",
       "    </tr>\n",
       "    <tr>\n",
       "      <th>nertiqatja</th>\n",
       "      <td>524</td>\n",
       "      <td>0</td>\n",
       "      <td>0</td>\n",
       "    </tr>\n",
       "    <tr>\n",
       "      <th>twidge</th>\n",
       "      <td>90</td>\n",
       "      <td>0</td>\n",
       "      <td>0</td>\n",
       "    </tr>\n",
       "  </tbody>\n",
       "</table>\n",
       "</div>"
      ],
      "text/plain": [
       "                           Length  Likes  RTs\n",
       "Source                                       \n",
       "Blog2Social APP               412      3    1\n",
       "Buffer                        353      1    1\n",
       "Create Buzz Media Account      84      0    2\n",
       "Crowdfire App                 140      1    0\n",
       "DataScienceInfo               121      0    1\n",
       "Dynamic Tweets                456      1    0\n",
       "Echobox                       272      2    0\n",
       "Etsy                          132      0    0\n",
       "Hootsuite Inc.               1067     13    3\n",
       "Instagram                    4443      5   13\n",
       "LaterMedia                    262      4    0\n",
       "NetNaija Twiit                139      1    0\n",
       "Nsemgh.com                    135      0    0\n",
       "Republicworld                1081    210   21\n",
       "SocialFlow                    100      0    0\n",
       "SocialNewsDesk                132      0    0\n",
       "Spreaker                      262      1    0\n",
       "TalkBasket                    981      5    1\n",
       "The Social Jukebox            212      1    0\n",
       "TubeBuddy                     840      0    0\n",
       "TweetCaster for Android       270      0    0\n",
       "TweetDeck                    2932     81   38\n",
       "Tweetbot for iΟS               60      0    0\n",
       "Twitter Web App             10172    392   75\n",
       "Twitter Web Client           1930      9    7\n",
       "Twitter for Advertisers       140      1    1\n",
       "Twitter for Android         11178    205  116\n",
       "Twitter for Mac                98      6    1\n",
       "Twitter for iPad             1260      5    1\n",
       "Twitter for iPhone          20641    572   74\n",
       "WordPress.com                 133      1    0\n",
       "dlvr.it                       249      0    0\n",
       "eClincher                     131      1    0\n",
       "nertiqatja                    524      0    0\n",
       "twidge                         90      0    0"
      ]
     },
     "execution_count": 40,
     "metadata": {},
     "output_type": "execute_result"
    }
   ],
   "source": [
    "#obtain all possible sources:\n",
    "sources = []\n",
    "for source in tweet_DF['Source']:\n",
    "    if source not in sources:\n",
    "        sources.append(source)\n",
    "\n",
    "#print sources in a groupby function\n",
    "print(\"Creation of content sources:\")\n",
    "tweet_DF.groupby('Source').sum()"
   ]
  },
  {
   "cell_type": "code",
   "execution_count": 41,
   "metadata": {},
   "outputs": [
    {
     "data": {
      "image/png": "[encoded data removed]",
      "text/plain": [
       "<Figure size 432x432 with 1 Axes>"
      ]
     },
     "metadata": {},
     "output_type": "display_data"
    }
   ],
   "source": [
    "#create a numpy vector mapped to labels:\n",
    "percent = np.zeros(len(sources))\n",
    "\n",
    "for source in tweet_DF['Source']:\n",
    "    for index in range(len(sources)):\n",
    "        if source == sources[index]:\n",
    "            percent[index] += 1\n",
    "            pass\n",
    "\n",
    "percent /= 100\n",
    "\n",
    "#pie chart for sources\n",
    "pie_chart = pd.Series(percent, index=sources, name='Sources')\n",
    "pie_chart.plot.pie(fontsize=11, autopct='%.2f', figsize=(6, 6));"
   ]
  },
  {
   "cell_type": "markdown",
   "metadata": {},
   "source": [
    "- From these visualizations, we can conclude that people tweeted #KobeBryant..\n",
    "- 35% from their iPhones\n",
    "- 18.4% from an Androids\n",
    "- 15.8% from the web\n",
    "- 6.8% from Instagram\n",
    "- 4.6% from TweetDeck"
   ]
  },
  {
   "cell_type": "markdown",
   "metadata": {},
   "source": [
    "## Sentimental Analysis\n",
    "- first, i installed textblob on my computer using: pip install -U textblob\n",
    "- this will allow me to use sentiment analysis on my twitter data"
   ]
  },
  {
   "cell_type": "code",
   "execution_count": 42,
   "metadata": {},
   "outputs": [],
   "source": [
    "from textblob import TextBlob\n",
    "import re\n",
    "\n",
    "#declare function to clean the tweets from unwanted characters and links\n",
    "def clean_tweet(tweet):\n",
    "    return ' '.join(re.sub(\"(@[A-Za-z0-9]+)|([^0-9A-Za-z \\t])|(\\w+:\\/\\/\\S+)\", \" \", tweet).split())\n",
    "\n",
    "#declare function to classify polarity of a tweet using textblob\n",
    "def analize_sentiment(tweet):\n",
    "    analysis = TextBlob(clean_tweet(tweet))\n",
    "    if analysis.sentiment.polarity > 0:\n",
    "        return 1\n",
    "    elif analysis.sentiment.polarity == 0:\n",
    "        return 0\n",
    "    else:\n",
    "        return -1"
   ]
  },
  {
   "cell_type": "code",
   "execution_count": 43,
   "metadata": {},
   "outputs": [
    {
     "data": {
      "text/html": [
       "<div>\n",
       "<style scoped>\n",
       "    .dataframe tbody tr th:only-of-type {\n",
       "        vertical-align: middle;\n",
       "    }\n",
       "\n",
       "    .dataframe tbody tr th {\n",
       "        vertical-align: top;\n",
       "    }\n",
       "\n",
       "    .dataframe thead th {\n",
       "        text-align: right;\n",
       "    }\n",
       "</style>\n",
       "<table border=\"1\" class=\"dataframe\">\n",
       "  <thead>\n",
       "    <tr style=\"text-align: right;\">\n",
       "      <th></th>\n",
       "      <th>Tweets</th>\n",
       "      <th>Length</th>\n",
       "      <th>Date</th>\n",
       "      <th>Source</th>\n",
       "      <th>User</th>\n",
       "      <th>Likes</th>\n",
       "      <th>RTs</th>\n",
       "      <th>SA</th>\n",
       "    </tr>\n",
       "  </thead>\n",
       "  <tbody>\n",
       "    <tr>\n",
       "      <th>0</th>\n",
       "      <td>I was watching Kobe last game so I stared to t...</td>\n",
       "      <td>139</td>\n",
       "      <td>2020-05-17 02:46:16</td>\n",
       "      <td>Twitter for iPhone</td>\n",
       "      <td>omer_kamba</td>\n",
       "      <td>1</td>\n",
       "      <td>0</td>\n",
       "      <td>-1</td>\n",
       "    </tr>\n",
       "    <tr>\n",
       "      <th>1</th>\n",
       "      <td>Seeing this replay of KobeBryant last game on ...</td>\n",
       "      <td>139</td>\n",
       "      <td>2020-05-17 02:46:00</td>\n",
       "      <td>Twitter for iPhone</td>\n",
       "      <td>coolmanolo</td>\n",
       "      <td>0</td>\n",
       "      <td>0</td>\n",
       "      <td>-1</td>\n",
       "    </tr>\n",
       "    <tr>\n",
       "      <th>2</th>\n",
       "      <td>Im always told God has a reason for everything...</td>\n",
       "      <td>140</td>\n",
       "      <td>2020-05-17 02:45:59</td>\n",
       "      <td>Twitter for Android</td>\n",
       "      <td>kevinlockett</td>\n",
       "      <td>0</td>\n",
       "      <td>0</td>\n",
       "      <td>0</td>\n",
       "    </tr>\n",
       "    <tr>\n",
       "      <th>3</th>\n",
       "      <td>Im watching kobebryant farewell game on ABCNet...</td>\n",
       "      <td>114</td>\n",
       "      <td>2020-05-17 02:44:37</td>\n",
       "      <td>Twitter for Android</td>\n",
       "      <td>deontherealmvp</td>\n",
       "      <td>0</td>\n",
       "      <td>0</td>\n",
       "      <td>-1</td>\n",
       "    </tr>\n",
       "    <tr>\n",
       "      <th>4</th>\n",
       "      <td>Man this KobeBryant farewell game replay has m...</td>\n",
       "      <td>137</td>\n",
       "      <td>2020-05-17 02:44:27</td>\n",
       "      <td>Twitter for iPhone</td>\n",
       "      <td>acmartin33</td>\n",
       "      <td>0</td>\n",
       "      <td>0</td>\n",
       "      <td>-1</td>\n",
       "    </tr>\n",
       "    <tr>\n",
       "      <th>5</th>\n",
       "      <td>The KobeBryant farewell game is just ridiculou...</td>\n",
       "      <td>140</td>\n",
       "      <td>2020-05-17 02:44:23</td>\n",
       "      <td>Twitter for Android</td>\n",
       "      <td>NateBreen</td>\n",
       "      <td>0</td>\n",
       "      <td>0</td>\n",
       "      <td>-1</td>\n",
       "    </tr>\n",
       "    <tr>\n",
       "      <th>6</th>\n",
       "      <td>This KobeBryant farewell game puts me in awe e...</td>\n",
       "      <td>139</td>\n",
       "      <td>2020-05-17 02:43:59</td>\n",
       "      <td>Twitter for iPhone</td>\n",
       "      <td>kevinrice1</td>\n",
       "      <td>0</td>\n",
       "      <td>0</td>\n",
       "      <td>-1</td>\n",
       "    </tr>\n",
       "    <tr>\n",
       "      <th>7</th>\n",
       "      <td>SHAQs face when KobeBryant scored that jumper ...</td>\n",
       "      <td>112</td>\n",
       "      <td>2020-05-17 02:43:47</td>\n",
       "      <td>Twitter for iPhone</td>\n",
       "      <td>DiegoGarcesTV</td>\n",
       "      <td>1</td>\n",
       "      <td>0</td>\n",
       "      <td>1</td>\n",
       "    </tr>\n",
       "    <tr>\n",
       "      <th>8</th>\n",
       "      <td>Lifelong celtics fan watching Kobes last game ...</td>\n",
       "      <td>140</td>\n",
       "      <td>2020-05-17 02:41:44</td>\n",
       "      <td>Twitter for Android</td>\n",
       "      <td>MattyVaught</td>\n",
       "      <td>3</td>\n",
       "      <td>1</td>\n",
       "      <td>-1</td>\n",
       "    </tr>\n",
       "    <tr>\n",
       "      <th>9</th>\n",
       "      <td>Just watching KobeBryant drop 60 in his last g...</td>\n",
       "      <td>132</td>\n",
       "      <td>2020-05-17 02:40:50</td>\n",
       "      <td>Twitter for iPhone</td>\n",
       "      <td>DKscout22</td>\n",
       "      <td>2</td>\n",
       "      <td>1</td>\n",
       "      <td>-1</td>\n",
       "    </tr>\n",
       "  </tbody>\n",
       "</table>\n",
       "</div>"
      ],
      "text/plain": [
       "                                              Tweets  Length  \\\n",
       "0  I was watching Kobe last game so I stared to t...     139   \n",
       "1  Seeing this replay of KobeBryant last game on ...     139   \n",
       "2  Im always told God has a reason for everything...     140   \n",
       "3  Im watching kobebryant farewell game on ABCNet...     114   \n",
       "4  Man this KobeBryant farewell game replay has m...     137   \n",
       "5  The KobeBryant farewell game is just ridiculou...     140   \n",
       "6  This KobeBryant farewell game puts me in awe e...     139   \n",
       "7  SHAQs face when KobeBryant scored that jumper ...     112   \n",
       "8  Lifelong celtics fan watching Kobes last game ...     140   \n",
       "9  Just watching KobeBryant drop 60 in his last g...     132   \n",
       "\n",
       "                 Date               Source            User  Likes  RTs  SA  \n",
       "0 2020-05-17 02:46:16   Twitter for iPhone      omer_kamba      1    0  -1  \n",
       "1 2020-05-17 02:46:00   Twitter for iPhone      coolmanolo      0    0  -1  \n",
       "2 2020-05-17 02:45:59  Twitter for Android    kevinlockett      0    0   0  \n",
       "3 2020-05-17 02:44:37  Twitter for Android  deontherealmvp      0    0  -1  \n",
       "4 2020-05-17 02:44:27   Twitter for iPhone      acmartin33      0    0  -1  \n",
       "5 2020-05-17 02:44:23  Twitter for Android       NateBreen      0    0  -1  \n",
       "6 2020-05-17 02:43:59   Twitter for iPhone      kevinrice1      0    0  -1  \n",
       "7 2020-05-17 02:43:47   Twitter for iPhone   DiegoGarcesTV      1    0   1  \n",
       "8 2020-05-17 02:41:44  Twitter for Android     MattyVaught      3    1  -1  \n",
       "9 2020-05-17 02:40:50   Twitter for iPhone       DKscout22      2    1  -1  "
      ]
     },
     "metadata": {},
     "output_type": "display_data"
    }
   ],
   "source": [
    "#create a new column with the result of the analysis\n",
    "tweet_DF['SA'] = np.array([ analize_sentiment(tweet) for tweet in tweet_DF['Tweets'] ])\n",
    "\n",
    "#display the updated dataframe with the new column:\n",
    "display(tweet_DF.head(10))"
   ]
  },
  {
   "cell_type": "code",
   "execution_count": 44,
   "metadata": {},
   "outputs": [],
   "source": [
    "#verify the sentiment analysis results by counting the amount of postive, neutral, and negatives tweets\n",
    "#make lists with classified tweets\n",
    "positive_tweets = [ tweet for index, tweet in enumerate(tweet_DF['Tweets']) if tweet_DF['SA'][index] > 0]\n",
    "neutral_tweets = [ tweet for index, tweet in enumerate(tweet_DF['Tweets']) if tweet_DF['SA'][index] == 0]\n",
    "negative_tweets = [ tweet for index, tweet in enumerate(tweet_DF['Tweets']) if tweet_DF['SA'][index] < 0]"
   ]
  },
  {
   "cell_type": "code",
   "execution_count": 45,
   "metadata": {},
   "outputs": [
    {
     "name": "stdout",
     "output_type": "stream",
     "text": [
      "Positive tweets: 34.8%\n",
      "Neutral tweets: 47.6%\n",
      "Negative tweets: 17.6%\n"
     ]
    }
   ],
   "source": [
    "#extract the percentages\n",
    "print(\"Positive tweets: {}%\".format(len(positive_tweets)*100/len(tweet_DF['Tweets'])))\n",
    "print(\"Neutral tweets: {}%\".format(len(neutral_tweets)*100/len(tweet_DF['Tweets'])))\n",
    "print(\"Negative tweets: {}%\".format(len(negative_tweets)*100/len(tweet_DF['Tweets'])))"
   ]
  },
  {
   "cell_type": "markdown",
   "metadata": {},
   "source": [
    "## Deriving conlusion"
   ]
  },
  {
   "cell_type": "markdown",
   "metadata": {},
   "source": [
    "- From the recent #KobeBryant tweets, we see that people are still tweeting about his helicopter crash"
   ]
  },
  {
   "cell_type": "code",
   "execution_count": 60,
   "metadata": {},
   "outputs": [
    {
     "data": {
      "text/html": [
       "<div>\n",
       "<style scoped>\n",
       "    .dataframe tbody tr th:only-of-type {\n",
       "        vertical-align: middle;\n",
       "    }\n",
       "\n",
       "    .dataframe tbody tr th {\n",
       "        vertical-align: top;\n",
       "    }\n",
       "\n",
       "    .dataframe thead th {\n",
       "        text-align: right;\n",
       "    }\n",
       "</style>\n",
       "<table border=\"1\" class=\"dataframe\">\n",
       "  <thead>\n",
       "    <tr style=\"text-align: right;\">\n",
       "      <th></th>\n",
       "      <th>words</th>\n",
       "      <th>count</th>\n",
       "    </tr>\n",
       "  </thead>\n",
       "  <tbody>\n",
       "    <tr>\n",
       "      <th>0</th>\n",
       "      <td>nba</td>\n",
       "      <td>71</td>\n",
       "    </tr>\n",
       "    <tr>\n",
       "      <th>1</th>\n",
       "      <td>crash</td>\n",
       "      <td>53</td>\n",
       "    </tr>\n",
       "    <tr>\n",
       "      <th>2</th>\n",
       "      <td>lakers</td>\n",
       "      <td>52</td>\n",
       "    </tr>\n",
       "    <tr>\n",
       "      <th>3</th>\n",
       "      <td>helicopter</td>\n",
       "      <td>44</td>\n",
       "    </tr>\n",
       "    <tr>\n",
       "      <th>4</th>\n",
       "      <td>mamba</td>\n",
       "      <td>43</td>\n",
       "    </tr>\n",
       "    <tr>\n",
       "      <th>5</th>\n",
       "      <td>game</td>\n",
       "      <td>38</td>\n",
       "    </tr>\n",
       "    <tr>\n",
       "      <th>6</th>\n",
       "      <td>basketball</td>\n",
       "      <td>38</td>\n",
       "    </tr>\n",
       "    <tr>\n",
       "      <th>7</th>\n",
       "      <td>sports</td>\n",
       "      <td>35</td>\n",
       "    </tr>\n",
       "    <tr>\n",
       "      <th>8</th>\n",
       "      <td>pilot</td>\n",
       "      <td>30</td>\n",
       "    </tr>\n",
       "    <tr>\n",
       "      <th>9</th>\n",
       "      <td>last</td>\n",
       "      <td>28</td>\n",
       "    </tr>\n",
       "    <tr>\n",
       "      <th>10</th>\n",
       "      <td>autopsy</td>\n",
       "      <td>27</td>\n",
       "    </tr>\n",
       "    <tr>\n",
       "      <th>11</th>\n",
       "      <td>academy</td>\n",
       "      <td>24</td>\n",
       "    </tr>\n",
       "    <tr>\n",
       "      <th>12</th>\n",
       "      <td>time</td>\n",
       "      <td>23</td>\n",
       "    </tr>\n",
       "    <tr>\n",
       "      <th>13</th>\n",
       "      <td>espn</td>\n",
       "      <td>20</td>\n",
       "    </tr>\n",
       "    <tr>\n",
       "      <th>14</th>\n",
       "      <td>drugs</td>\n",
       "      <td>19</td>\n",
       "    </tr>\n",
       "  </tbody>\n",
       "</table>\n",
       "</div>"
      ],
      "text/plain": [
       "         words  count\n",
       "0          nba     71\n",
       "1        crash     53\n",
       "2       lakers     52\n",
       "3   helicopter     44\n",
       "4        mamba     43\n",
       "5         game     38\n",
       "6   basketball     38\n",
       "7       sports     35\n",
       "8        pilot     30\n",
       "9         last     28\n",
       "10     autopsy     27\n",
       "11     academy     24\n",
       "12        time     23\n",
       "13        espn     20\n",
       "14       drugs     19"
      ]
     },
     "execution_count": 60,
     "metadata": {},
     "output_type": "execute_result"
    }
   ],
   "source": [
    "clean_tweets_ncw = pd.DataFrame(counts_nsw_nc.most_common(15),\n",
    "                             columns=['words', 'count'])\n",
    "clean_tweets_ncw.head(15)"
   ]
  },
  {
   "cell_type": "code",
   "execution_count": null,
   "metadata": {},
   "outputs": [],
   "source": []
  }
 ],
 "metadata": {
  "kernelspec": {
   "display_name": "Python 3",
   "language": "python",
   "name": "python3"
  },
  "language_info": {
   "codemirror_mode": {
    "name": "ipython",
    "version": 3
   },
   "file_extension": ".py",
   "mimetype": "text/x-python",
   "name": "python",
   "nbconvert_exporter": "python",
   "pygments_lexer": "ipython3",
   "version": "3.7.6"
  }
 },
 "nbformat": 4,
 "nbformat_minor": 2
}
